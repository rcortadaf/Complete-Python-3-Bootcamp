{
  "nbformat": 4,
  "nbformat_minor": 0,
  "metadata": {
    "kernelspec": {
      "display_name": "Python 3",
      "language": "python",
      "name": "python3"
    },
    "language_info": {
      "codemirror_mode": {
        "name": "ipython",
        "version": 3
      },
      "file_extension": ".py",
      "mimetype": "text/x-python",
      "name": "python",
      "nbconvert_exporter": "python",
      "pygments_lexer": "ipython3",
      "version": "3.6.6"
    },
    "colab": {
      "name": "02-Milestone Project 2 - Walkthrough Steps Workbook.ipynb",
      "provenance": [],
      "include_colab_link": true
    }
  },
  "cells": [
    {
      "cell_type": "markdown",
      "metadata": {
        "id": "view-in-github",
        "colab_type": "text"
      },
      "source": [
        "<a href=\"https://colab.research.google.com/github/rcortadaf/Complete-Python-3-Bootcamp/blob/master/08-Milestone%20Project%20-%202/02-Milestone%20Project%202%20-%20Walkthrough%20Steps%20Workbook.ipynb\" target=\"_parent\"><img src=\"https://colab.research.google.com/assets/colab-badge.svg\" alt=\"Open In Colab\"/></a>"
      ]
    },
    {
      "cell_type": "markdown",
      "metadata": {
        "id": "vBdpXDRD-ecw",
        "colab_type": "text"
      },
      "source": [
        "___\n",
        "\n",
        "<a href='https://www.udemy.com/user/joseportilla/'><img src='https://github.com/rcortadaf/Complete-Python-3-Bootcamp/blob/master/Pierian_Data_Logo.png?raw=1'/></a>\n",
        "___\n",
        "<center><em>Content Copyright by Pierian Data</em></center>"
      ]
    },
    {
      "cell_type": "markdown",
      "metadata": {
        "collapsed": true,
        "id": "pZARxkft-ec0",
        "colab_type": "text"
      },
      "source": [
        "# Milestone Project 2 - Walkthrough Steps Workbook\n",
        "Below is a set of steps for you to follow to try to create the Blackjack Milestone Project game!"
      ]
    },
    {
      "cell_type": "markdown",
      "metadata": {
        "id": "c6VrNMvU-ec2",
        "colab_type": "text"
      },
      "source": [
        "## Game Play\n",
        "To play a hand of Blackjack the following steps must be followed:\n",
        "1. Create a deck of 52 cards\n",
        "2. Shuffle the deck\n",
        "3. Ask the Player for their bet\n",
        "4. Make sure that the Player's bet does not exceed their available chips\n",
        "5. Deal two cards to the Dealer and two cards to the Player\n",
        "6. Show only one of the Dealer's cards, the other remains hidden\n",
        "7. Show both of the Player's cards\n",
        "8. Ask the Player if they wish to Hit, and take another card\n",
        "9. If the Player's hand doesn't Bust (go over 21), ask if they'd like to Hit again.\n",
        "10. If a Player Stands, play the Dealer's hand. The dealer will always Hit until the Dealer's value meets or exceeds 17\n",
        "11. Determine the winner and adjust the Player's chips accordingly\n",
        "12. Ask the Player if they'd like to play again"
      ]
    },
    {
      "cell_type": "markdown",
      "metadata": {
        "id": "fPqA5i5R-ec4",
        "colab_type": "text"
      },
      "source": [
        "## Playing Cards\n",
        "A standard deck of playing cards has four suits (Hearts, Diamonds, Spades and Clubs) and thirteen ranks (2 through 10, then the face cards Jack, Queen, King and Ace) for a total of 52 cards per deck. Jacks, Queens and Kings all have a rank of 10. Aces have a rank of either 11 or 1 as needed to reach 21 without busting. As a starting point in your program, you may want to assign variables to store a list of suits, ranks, and then use a dictionary to map ranks to values."
      ]
    },
    {
      "cell_type": "markdown",
      "metadata": {
        "id": "gOon6Tb--ec6",
        "colab_type": "text"
      },
      "source": [
        "## The Game\n",
        "### Imports and Global Variables\n",
        "** Step 1: Import the random module. This will be used to shuffle the deck prior to dealing. Then, declare variables to store suits, ranks and values. You can develop your own system, or copy ours below. Finally, declare a Boolean value to be used to control <code>while</code> loops. This is a common practice used to control the flow of the game.**\n",
        "\n",
        "    suits = ('Hearts', 'Diamonds', 'Spades', 'Clubs')\n",
        "    ranks = ('Two', 'Three', 'Four', 'Five', 'Six', 'Seven', 'Eight', 'Nine', 'Ten', 'Jack', 'Queen', 'King', 'Ace')\n",
        "    values = {'Two':2, 'Three':3, 'Four':4, 'Five':5, 'Six':6, 'Seven':7, 'Eight':8, 'Nine':9, 'Ten':10, 'Jack':10,\n",
        "             'Queen':10, 'King':10, 'Ace':11}"
      ]
    },
    {
      "cell_type": "code",
      "metadata": {
        "id": "TD5wR0jC-ec8",
        "colab_type": "code",
        "colab": {}
      },
      "source": [
        "import random\n",
        "\n",
        "suits = ('Hearts', 'Diamonds', 'Spades', 'Clubs')\n",
        "ranks = ('Two', 'Three', 'Four', 'Five', 'Six', 'Seven', 'Eight', 'Nine', 'Ten', 'Jack', 'Queen', 'King', 'Ace')\n",
        "values = {'Two':2, 'Three':3, 'Four':4, 'Five':5, 'Six':6, 'Seven':7, 'Eight':8, 'Nine':9, 'Ten':10, 'Jack':10,\n",
        "         'Queen':10, 'King':10, 'Ace':11}\n",
        "\n",
        "playing = True"
      ],
      "execution_count": 1,
      "outputs": []
    },
    {
      "cell_type": "markdown",
      "metadata": {
        "id": "ibYuV4dX-edO",
        "colab_type": "text"
      },
      "source": [
        "### Class Definitions\n",
        "Consider making a Card class where each Card object has a suit and a rank, then a Deck class to hold all 52 Card objects, and can be shuffled, and finally a Hand class that holds those Cards that have been dealt to each player from the Deck."
      ]
    },
    {
      "cell_type": "markdown",
      "metadata": {
        "id": "VeXjnYCM-edT",
        "colab_type": "text"
      },
      "source": [
        "**Step 2: Create a Card Class**<br>\n",
        "A Card object really only needs two attributes: suit and rank. You might add an attribute for \"value\" - we chose to handle value later when developing our Hand class.<br>In addition to the Card's \\_\\_init\\_\\_ method, consider adding a \\_\\_str\\_\\_ method that, when asked to print a Card, returns a string in the form \"Two of Hearts\""
      ]
    },
    {
      "cell_type": "code",
      "metadata": {
        "id": "Sw4kOfdJ-edV",
        "colab_type": "code",
        "colab": {}
      },
      "source": [
        "class Card:\n",
        "    \n",
        "    def __init__(self, suit, rank):\n",
        "        self.suit=suit\n",
        "        self.rank=rank\n",
        "        self.value=values[rank]\n",
        "    \n",
        "    def __str__(self):\n",
        "        return str(f\"{self.rank} of {self.suit}\")"
      ],
      "execution_count": 33,
      "outputs": []
    },
    {
      "cell_type": "code",
      "metadata": {
        "id": "ZuZs2uJPCDdG",
        "colab_type": "code",
        "colab": {
          "base_uri": "https://localhost:8080/",
          "height": 51
        },
        "outputId": "aa9d041f-a7fe-4ecb-9937-c01d7dc9e71c"
      },
      "source": [
        "test_card=Card('Clubs','Six')\n",
        "print(test_card)\n",
        "test_card.value"
      ],
      "execution_count": 34,
      "outputs": [
        {
          "output_type": "stream",
          "text": [
            "Six of Clubs\n"
          ],
          "name": "stdout"
        },
        {
          "output_type": "execute_result",
          "data": {
            "text/plain": [
              "6"
            ]
          },
          "metadata": {
            "tags": []
          },
          "execution_count": 34
        }
      ]
    },
    {
      "cell_type": "markdown",
      "metadata": {
        "id": "svMvFq8G-edm",
        "colab_type": "text"
      },
      "source": [
        "**Step 3: Create a Deck Class**<br>\n",
        "Here we might store 52 card objects in a list that can later be shuffled. First, though, we need to *instantiate* all 52 unique card objects and add them to our list. So long as the Card class definition appears in our code, we can build Card objects inside our Deck \\_\\_init\\_\\_ method. Consider iterating over sequences of suits and ranks to build out each card. This might appear inside a Deck class \\_\\_init\\_\\_ method:\n",
        "\n",
        "    for suit in suits:\n",
        "        for rank in ranks:\n",
        "\n",
        "In addition to an \\_\\_init\\_\\_ method we'll want to add methods to shuffle our deck, and to deal out cards during gameplay.<br><br>\n",
        "OPTIONAL: We may never need to print the contents of the deck during gameplay, but having the ability to see the cards inside it may help troubleshoot any problems that occur during development. With this in mind, consider adding a \\_\\_str\\_\\_ method to the class definition."
      ]
    },
    {
      "cell_type": "code",
      "metadata": {
        "id": "dxrjay9c-edy",
        "colab_type": "code",
        "colab": {}
      },
      "source": [
        "class Deck:\n",
        "    \n",
        "    def __init__(self):\n",
        "        self.deck = []  # start with an empty list\n",
        "        for suit in suits:\n",
        "            for rank in ranks:\n",
        "                self.deck.append(Card(suit,rank))\n",
        "    \n",
        "    def __str__(self):\n",
        "        output=''\n",
        "        for card in self.deck:\n",
        "          output+=str(card)+\"\\n\"\n",
        "        return output\n",
        "\n",
        "    def shuffle(self):\n",
        "        random.shuffle(self.deck)\n",
        "        \n",
        "    def deal(self):\n",
        "        return(self.deck.pop())"
      ],
      "execution_count": 58,
      "outputs": []
    },
    {
      "cell_type": "markdown",
      "metadata": {
        "id": "X3pOan7G-eeA",
        "colab_type": "text"
      },
      "source": [
        "TESTING: Just to see that everything works so far, let's see what our Deck looks like!"
      ]
    },
    {
      "cell_type": "code",
      "metadata": {
        "id": "SmjxA3Xw-eeG",
        "colab_type": "code",
        "colab": {
          "base_uri": "https://localhost:8080/",
          "height": 901
        },
        "outputId": "34956504-9291-4d2f-b910-987141db621f"
      },
      "source": [
        "test_deck = Deck()\n",
        "test_deck.shuffle()\n",
        "test_card=test_deck.deal()\n",
        "print(test_deck)\n"
      ],
      "execution_count": 59,
      "outputs": [
        {
          "output_type": "stream",
          "text": [
            "Jack of Spades\n",
            "Ten of Diamonds\n",
            "Three of Clubs\n",
            "King of Hearts\n",
            "Six of Clubs\n",
            "Three of Hearts\n",
            "Ace of Hearts\n",
            "Five of Hearts\n",
            "Seven of Hearts\n",
            "Four of Diamonds\n",
            "Four of Hearts\n",
            "Five of Diamonds\n",
            "Nine of Spades\n",
            "Eight of Diamonds\n",
            "Ace of Spades\n",
            "Eight of Hearts\n",
            "Six of Spades\n",
            "Four of Clubs\n",
            "Two of Hearts\n",
            "Five of Spades\n",
            "Four of Spades\n",
            "Six of Diamonds\n",
            "Jack of Clubs\n",
            "Eight of Spades\n",
            "Nine of Diamonds\n",
            "Nine of Clubs\n",
            "Jack of Hearts\n",
            "Three of Diamonds\n",
            "Two of Clubs\n",
            "Ten of Hearts\n",
            "Two of Diamonds\n",
            "Seven of Spades\n",
            "Ten of Clubs\n",
            "Queen of Clubs\n",
            "Queen of Spades\n",
            "Seven of Clubs\n",
            "King of Diamonds\n",
            "Ten of Spades\n",
            "Queen of Hearts\n",
            "Jack of Diamonds\n",
            "Queen of Diamonds\n",
            "Six of Hearts\n",
            "King of Spades\n",
            "King of Clubs\n",
            "Ace of Diamonds\n",
            "Ace of Clubs\n",
            "Eight of Clubs\n",
            "Two of Spades\n",
            "Seven of Diamonds\n",
            "Three of Spades\n",
            "Five of Clubs\n",
            "\n"
          ],
          "name": "stdout"
        }
      ]
    },
    {
      "cell_type": "markdown",
      "metadata": {
        "id": "GGUQWHql-eeT",
        "colab_type": "text"
      },
      "source": [
        "Great! Now let's move on to our Hand class."
      ]
    },
    {
      "cell_type": "markdown",
      "metadata": {
        "id": "tP_-jvu7-eeV",
        "colab_type": "text"
      },
      "source": [
        "**Step 4: Create a Hand Class**<br>\n",
        "In addition to holding Card objects dealt from the Deck, the Hand class may be used to calculate the value of those cards using the values dictionary defined above. It may also need to adjust for the value of Aces when appropriate."
      ]
    },
    {
      "cell_type": "code",
      "metadata": {
        "id": "eeTaU5TS-eeY",
        "colab_type": "code",
        "colab": {}
      },
      "source": [
        "class Hand:\n",
        "    def __init__(self):\n",
        "        self.cards = []  # start with an empty list as we did in the Deck class\n",
        "        self.value = 0   # start with zero value\n",
        "        self.aces = 0    # add an attribute to keep track of aces\n",
        "    \n",
        "    def add_card(self,card):\n",
        "        self.cards.append(card)\n",
        "        if card.rank==\"Ace\":\n",
        "          self.aces+=1\n",
        "        self.value+=card.value\n",
        "    \n",
        "    def adjust_for_ace(self):\n",
        "        for i in range(0,self.aces):\n",
        "          if self.value>21:\n",
        "            self.value-=10\n",
        "    \n",
        "    def __str__(self):\n",
        "        output=''\n",
        "        for card in self.cards:\n",
        "          output+=str(card)+'\\n'\n",
        "        return output"
      ],
      "execution_count": 69,
      "outputs": []
    },
    {
      "cell_type": "code",
      "metadata": {
        "id": "GaSAsxlcVPth",
        "colab_type": "code",
        "colab": {
          "base_uri": "https://localhost:8080/",
          "height": 34
        },
        "outputId": "a4933b92-5a89-411a-a56f-809eb3ba9012"
      },
      "source": [
        "print(test_card)"
      ],
      "execution_count": 61,
      "outputs": [
        {
          "output_type": "stream",
          "text": [
            "Nine of Hearts\n"
          ],
          "name": "stdout"
        }
      ]
    },
    {
      "cell_type": "code",
      "metadata": {
        "id": "8iMEJywrUxfN",
        "colab_type": "code",
        "colab": {
          "base_uri": "https://localhost:8080/",
          "height": 34
        },
        "outputId": "9c6f8b6d-e9f5-47a9-bce0-900b5f18aa6b"
      },
      "source": [
        "test_hand=Hand()\n",
        "test_hand.add_card(test_deck.deal())\n",
        "test_hand.add_card(test_deck.deal())\n",
        "test_hand.adjust_for_ace()\n",
        "test_hand.value"
      ],
      "execution_count": 71,
      "outputs": [
        {
          "output_type": "execute_result",
          "data": {
            "text/plain": [
              "21"
            ]
          },
          "metadata": {
            "tags": []
          },
          "execution_count": 71
        }
      ]
    },
    {
      "cell_type": "code",
      "metadata": {
        "id": "VQwV8CBgXyqH",
        "colab_type": "code",
        "colab": {
          "base_uri": "https://localhost:8080/",
          "height": 68
        },
        "outputId": "922a42e2-6675-47bd-8178-f2f941f8d62b"
      },
      "source": [
        "print(test_hand)"
      ],
      "execution_count": 72,
      "outputs": [
        {
          "output_type": "stream",
          "text": [
            "Ace of Diamonds\n",
            "King of Clubs\n",
            "\n"
          ],
          "name": "stdout"
        }
      ]
    },
    {
      "cell_type": "markdown",
      "metadata": {
        "id": "sUw38ceB-eex",
        "colab_type": "text"
      },
      "source": [
        "**Step 5: Create a Chips Class**<br>\n",
        "In addition to decks of cards and hands, we need to keep track of a Player's starting chips, bets, and ongoing winnings. This could be done using global variables, but in the spirit of object oriented programming, let's make a Chips class instead!"
      ]
    },
    {
      "cell_type": "code",
      "metadata": {
        "id": "4wOfcY61-eez",
        "colab_type": "code",
        "colab": {}
      },
      "source": [
        "class Chips:\n",
        "    \n",
        "    def __init__(self):\n",
        "        self.total = 100  # This can be set to a default value or supplied by a user input\n",
        "        self.bet = 0\n",
        "        \n",
        "    def win_bet(self, chips):\n",
        "        self.total+=chips\n",
        "    \n",
        "    def lose_bet(self, chips):\n",
        "        self.total-=chips"
      ],
      "execution_count": 74,
      "outputs": []
    },
    {
      "cell_type": "markdown",
      "metadata": {
        "id": "QYTPXTCv-ee8",
        "colab_type": "text"
      },
      "source": [
        "### Function Defintions\n",
        "A lot of steps are going to be repetitive. That's where functions come in! The following steps are guidelines - add or remove functions as needed in your own program."
      ]
    },
    {
      "cell_type": "markdown",
      "metadata": {
        "id": "hCXNrrRK-ee9",
        "colab_type": "text"
      },
      "source": [
        "**Step 6: Write a function for taking bets**<br>\n",
        "Since we're asking the user for an integer value, this would be a good place to use <code>try</code>/<code>except</code>. Remember to check that a Player's bet can be covered by their available chips."
      ]
    },
    {
      "cell_type": "code",
      "metadata": {
        "id": "AdxS_kMJ-ee_",
        "colab_type": "code",
        "colab": {}
      },
      "source": [
        "def take_bet(chips):\n",
        "    \n",
        "    while True:\n",
        "      try:\n",
        "        bet=int(input(\"Take a number of chips to bet: \"))\n",
        "      except:\n",
        "        print (\"Sorry, not a correct number\")\n",
        "      else:\n",
        "        if chips.total>bet:\n",
        "          break\n",
        "        elif chips.tota>0:\n",
        "          print(f\"Sorry, not enough chips for that bet. You currently have {chips.total} chips.\")\n",
        "        else:\n",
        "          print(\"Sorry, no chips left\")\n",
        "          bet=0\n",
        "    return bet"
      ],
      "execution_count": 73,
      "outputs": []
    },
    {
      "cell_type": "markdown",
      "metadata": {
        "id": "hmdZfQZh-efI",
        "colab_type": "text"
      },
      "source": [
        "**Step 7: Write a function for taking hits**<br>\n",
        "Either player can take hits until they bust. This function will be called during gameplay anytime a Player requests a hit, or a Dealer's hand is less than 17. It should take in Deck and Hand objects as arguments, and deal one card off the deck and add it to the Hand. You may want it to check for aces in the event that a player's hand exceeds 21."
      ]
    },
    {
      "cell_type": "code",
      "metadata": {
        "id": "ui-PzndG-efJ",
        "colab_type": "code",
        "colab": {}
      },
      "source": [
        "def hit(deck,hand):\n",
        "    \n",
        "    pass"
      ],
      "execution_count": null,
      "outputs": []
    },
    {
      "cell_type": "markdown",
      "metadata": {
        "id": "oG6Wctci-efU",
        "colab_type": "text"
      },
      "source": [
        "**Step 8: Write a function prompting the Player to Hit or Stand**<br>\n",
        "This function should accept the deck and the player's hand as arguments, and assign playing as a global variable.<br>\n",
        "If the Player Hits, employ the hit() function above. If the Player Stands, set the playing variable to False - this will control the behavior of a <code>while</code> loop later on in our code."
      ]
    },
    {
      "cell_type": "code",
      "metadata": {
        "id": "l0FQv1FY-efW",
        "colab_type": "code",
        "colab": {}
      },
      "source": [
        "def hit_or_stand(deck,hand):\n",
        "    global playing  # to control an upcoming while loop\n",
        "    \n",
        "    pass"
      ],
      "execution_count": null,
      "outputs": []
    },
    {
      "cell_type": "markdown",
      "metadata": {
        "id": "jCF2eLEF-efl",
        "colab_type": "text"
      },
      "source": [
        "**Step 9: Write functions to display cards**<br>\n",
        "When the game starts, and after each time Player takes a card, the dealer's first card is hidden and all of Player's cards are visible. At the end of the hand all cards are shown, and you may want to show each hand's total value. Write a function for each of these scenarios."
      ]
    },
    {
      "cell_type": "code",
      "metadata": {
        "id": "kbkV3BM_-efm",
        "colab_type": "code",
        "colab": {}
      },
      "source": [
        "def show_some(player,dealer):\n",
        "    \n",
        "    pass\n",
        "    \n",
        "def show_all(player,dealer):\n",
        "    \n",
        "    pass"
      ],
      "execution_count": null,
      "outputs": []
    },
    {
      "cell_type": "markdown",
      "metadata": {
        "id": "2NcfjFHm-efy",
        "colab_type": "text"
      },
      "source": [
        "**Step 10: Write functions to handle end of game scenarios**<br>\n",
        "Remember to pass player's hand, dealer's hand and chips as needed."
      ]
    },
    {
      "cell_type": "code",
      "metadata": {
        "id": "tY60jAHe-ef0",
        "colab_type": "code",
        "colab": {}
      },
      "source": [
        "def player_busts():\n",
        "    pass\n",
        "\n",
        "def player_wins():\n",
        "    pass\n",
        "\n",
        "def dealer_busts():\n",
        "    pass\n",
        "    \n",
        "def dealer_wins():\n",
        "    pass\n",
        "    \n",
        "def push():\n",
        "    pass"
      ],
      "execution_count": null,
      "outputs": []
    },
    {
      "cell_type": "markdown",
      "metadata": {
        "id": "5scIUxn7-ef_",
        "colab_type": "text"
      },
      "source": [
        "### And now on to the game!!"
      ]
    },
    {
      "cell_type": "code",
      "metadata": {
        "id": "nmUuv11a-egA",
        "colab_type": "code",
        "colab": {}
      },
      "source": [
        "while True:\n",
        "    # Print an opening statement\n",
        "\n",
        "    \n",
        "    # Create & shuffle the deck, deal two cards to each player\n",
        "\n",
        "    \n",
        "        \n",
        "    # Set up the Player's chips\n",
        "    \n",
        "    \n",
        "    # Prompt the Player for their bet\n",
        "\n",
        "    \n",
        "    # Show cards (but keep one dealer card hidden)\n",
        "\n",
        "    \n",
        "    while playing:  # recall this variable from our hit_or_stand function\n",
        "        \n",
        "        # Prompt for Player to Hit or Stand\n",
        "        \n",
        "        \n",
        "        # Show cards (but keep one dealer card hidden)\n",
        " \n",
        "        \n",
        "        # If player's hand exceeds 21, run player_busts() and break out of loop\n",
        "        \n",
        "\n",
        "            break\n",
        "\n",
        "    # If Player hasn't busted, play Dealer's hand until Dealer reaches 17\n",
        "    \n",
        "    \n",
        "        # Show all cards\n",
        "    \n",
        "        # Run different winning scenarios\n",
        "        \n",
        "    \n",
        "    # Inform Player of their chips total \n",
        "    \n",
        "    # Ask to play again\n",
        "\n",
        "        break"
      ],
      "execution_count": null,
      "outputs": []
    },
    {
      "cell_type": "markdown",
      "metadata": {
        "id": "KpracNPJ-egN",
        "colab_type": "text"
      },
      "source": [
        "And that's it! Remember, these steps may differ significantly from your own solution. That's OK! Keep working on different sections of your program until you get the desired results. It takes a lot of time and patience! As always, feel free to post questions and comments to the QA Forums.\n",
        "# Good job!"
      ]
    }
  ]
}