{
  "nbformat": 4,
  "nbformat_minor": 0,
  "metadata": {
    "kernelspec": {
      "display_name": "Python 3",
      "language": "python",
      "name": "python3"
    },
    "language_info": {
      "codemirror_mode": {
        "name": "ipython",
        "version": 3
      },
      "file_extension": ".py",
      "mimetype": "text/x-python",
      "name": "python",
      "nbconvert_exporter": "python",
      "pygments_lexer": "ipython3",
      "version": "3.6.6"
    },
    "colab": {
      "name": "02-Errors and Exceptions Homework.ipynb",
      "provenance": []
    }
  },
  "cells": [
    {
      "cell_type": "markdown",
      "metadata": {
        "id": "xjbq6v9nPOCd",
        "colab_type": "text"
      },
      "source": [
        "___\n",
        "\n",
        "<a href='https://www.udemy.com/user/joseportilla/'><img src='https://github.com/rcortadaf/Complete-Python-3-Bootcamp/blob/master/Pierian_Data_Logo.png?raw=1'/></a>\n",
        "___\n",
        "<center><em>Content Copyright by Pierian Data</em></center>"
      ]
    },
    {
      "cell_type": "markdown",
      "metadata": {
        "id": "nWzrw-kqPOCg",
        "colab_type": "text"
      },
      "source": [
        "# Errors and Exceptions Homework"
      ]
    },
    {
      "cell_type": "markdown",
      "metadata": {
        "id": "E-vCw87MPOCk",
        "colab_type": "text"
      },
      "source": [
        "### Problem 1\n",
        "Handle the exception thrown by the code below by using <code>try</code> and <code>except</code> blocks."
      ]
    },
    {
      "cell_type": "code",
      "metadata": {
        "id": "hx3fbkpLPOCm",
        "colab_type": "code",
        "colab": {
          "base_uri": "https://localhost:8080/",
          "height": 34
        },
        "outputId": "2c1694b3-8e85-4827-a623-726bbb442315"
      },
      "source": [
        "try:\n",
        "  for i in ['a','b','c']:\n",
        "    print(i**2)\n",
        "except: \n",
        "  print(\"Wrong tipe\")"
      ],
      "execution_count": 1,
      "outputs": [
        {
          "output_type": "stream",
          "text": [
            "Wrong tipe\n"
          ],
          "name": "stdout"
        }
      ]
    },
    {
      "cell_type": "markdown",
      "metadata": {
        "id": "biBtGOFePOCx",
        "colab_type": "text"
      },
      "source": [
        "### Problem 2\n",
        "Handle the exception thrown by the code below by using <code>try</code> and <code>except</code> blocks. Then use a <code>finally</code> block to print 'All Done.'"
      ]
    },
    {
      "cell_type": "code",
      "metadata": {
        "id": "O3VnGgQHPOCz",
        "colab_type": "code",
        "colab": {
          "base_uri": "https://localhost:8080/",
          "height": 51
        },
        "outputId": "c43b16f5-6b70-46c5-eb3e-c82f67eb105a"
      },
      "source": [
        "try:\n",
        "  x = 5\n",
        "  y = 0\n",
        "\n",
        "  z = x/y\n",
        "except:\n",
        "  print(\"Division by 0\")\n",
        "finally: \n",
        "  print(\"This is the end\")"
      ],
      "execution_count": 2,
      "outputs": [
        {
          "output_type": "stream",
          "text": [
            "Division by 0\n",
            "This is the end\n"
          ],
          "name": "stdout"
        }
      ]
    },
    {
      "cell_type": "markdown",
      "metadata": {
        "id": "3miE0V9fPOC_",
        "colab_type": "text"
      },
      "source": [
        "### Problem 3\n",
        "Write a function that asks for an integer and prints the square of it. Use a <code>while</code> loop with a <code>try</code>, <code>except</code>, <code>else</code> block to account for incorrect inputs."
      ]
    },
    {
      "cell_type": "code",
      "metadata": {
        "id": "UwxdWzXbPODB",
        "colab_type": "code",
        "colab": {}
      },
      "source": [
        "def ask():\n",
        "    while True:\n",
        "      try:\n",
        "        square = int(input(\"Please input an intreger: \"))**2\n",
        "      except:\n",
        "        print(\"Ups, this is not valid. Try again\")\n",
        "        continue\n",
        "      else:\n",
        "        print(f\"Thank you, your squared number is {square}\")\n",
        "        break"
      ],
      "execution_count": 3,
      "outputs": []
    },
    {
      "cell_type": "code",
      "metadata": {
        "id": "9Wf88nTIPODM",
        "colab_type": "code",
        "colab": {
          "base_uri": "https://localhost:8080/",
          "height": 119
        },
        "outputId": "267b68a7-abfa-4883-856b-48b122118f95"
      },
      "source": [
        "ask()"
      ],
      "execution_count": 5,
      "outputs": [
        {
          "output_type": "stream",
          "text": [
            "Please input an intreger: sdfç\n",
            "Ups, this is not valid. Try again\n",
            "Please input an intreger: sdfs\n",
            "Ups, this is not valid. Try again\n",
            "Please input an intreger: 455\n",
            "Thank you, your squared number is 207025\n"
          ],
          "name": "stdout"
        }
      ]
    },
    {
      "cell_type": "markdown",
      "metadata": {
        "id": "tQM6Te3tPODW",
        "colab_type": "text"
      },
      "source": [
        "# Great Job!"
      ]
    }
  ]
}