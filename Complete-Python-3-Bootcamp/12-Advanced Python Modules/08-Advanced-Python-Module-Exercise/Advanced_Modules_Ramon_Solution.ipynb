{
  "nbformat": 4,
  "nbformat_minor": 0,
  "metadata": {
    "colab": {
      "name": "Advanced_Modules_Ramon_Solution.ipynb",
      "provenance": [],
      "toc_visible": true,
      "authorship_tag": "ABX9TyP6dZ/injaTvJ0Rbs3hJfQG",
      "include_colab_link": true
    },
    "kernelspec": {
      "name": "python3",
      "display_name": "Python 3"
    }
  },
  "cells": [
    {
      "cell_type": "markdown",
      "metadata": {
        "id": "view-in-github",
        "colab_type": "text"
      },
      "source": [
        "<a href=\"https://colab.research.google.com/github/rcortadaf/Complete-Python-3-Bootcamp/blob/master/Complete-Python-3-Bootcamp/12-Advanced%20Python%20Modules/08-Advanced-Python-Module-Exercise/Advanced_Modules_Ramon_Solution.ipynb\" target=\"_parent\"><img src=\"https://colab.research.google.com/assets/colab-badge.svg\" alt=\"Open In Colab\"/></a>"
      ]
    },
    {
      "cell_type": "code",
      "metadata": {
        "id": "7BmT8meIFaUx",
        "colab_type": "code",
        "colab": {
          "base_uri": "https://localhost:8080/",
          "height": 35
        },
        "outputId": "a4d47971-24a5-4a05-8a1d-bdd8689efcf7"
      },
      "source": [
        "pwd"
      ],
      "execution_count": null,
      "outputs": [
        {
          "output_type": "execute_result",
          "data": {
            "application/vnd.google.colaboratory.intrinsic+json": {
              "type": "string"
            },
            "text/plain": [
              "'/content'"
            ]
          },
          "metadata": {
            "tags": []
          },
          "execution_count": 2
        }
      ]
    },
    {
      "cell_type": "code",
      "metadata": {
        "id": "wliV36jzFfx8",
        "colab_type": "code",
        "colab": {}
      },
      "source": [
        "from google.colab import files"
      ],
      "execution_count": null,
      "outputs": []
    },
    {
      "cell_type": "code",
      "metadata": {
        "id": "n4Dp4d1lIMBe",
        "colab_type": "code",
        "colab": {
          "resources": {
            "http://localhost:8080/nbextensions/google.colab/files.js": {
              "data": "Ly8gQ29weXJpZ2h0IDIwMTcgR29vZ2xlIExMQwovLwovLyBMaWNlbnNlZCB1bmRlciB0aGUgQXBhY2hlIExpY2Vuc2UsIFZlcnNpb24gMi4wICh0aGUgIkxpY2Vuc2UiKTsKLy8geW91IG1heSBub3QgdXNlIHRoaXMgZmlsZSBleGNlcHQgaW4gY29tcGxpYW5jZSB3aXRoIHRoZSBMaWNlbnNlLgovLyBZb3UgbWF5IG9idGFpbiBhIGNvcHkgb2YgdGhlIExpY2Vuc2UgYXQKLy8KLy8gICAgICBodHRwOi8vd3d3LmFwYWNoZS5vcmcvbGljZW5zZXMvTElDRU5TRS0yLjAKLy8KLy8gVW5sZXNzIHJlcXVpcmVkIGJ5IGFwcGxpY2FibGUgbGF3IG9yIGFncmVlZCB0byBpbiB3cml0aW5nLCBzb2Z0d2FyZQovLyBkaXN0cmlidXRlZCB1bmRlciB0aGUgTGljZW5zZSBpcyBkaXN0cmlidXRlZCBvbiBhbiAiQVMgSVMiIEJBU0lTLAovLyBXSVRIT1VUIFdBUlJBTlRJRVMgT1IgQ09ORElUSU9OUyBPRiBBTlkgS0lORCwgZWl0aGVyIGV4cHJlc3Mgb3IgaW1wbGllZC4KLy8gU2VlIHRoZSBMaWNlbnNlIGZvciB0aGUgc3BlY2lmaWMgbGFuZ3VhZ2UgZ292ZXJuaW5nIHBlcm1pc3Npb25zIGFuZAovLyBsaW1pdGF0aW9ucyB1bmRlciB0aGUgTGljZW5zZS4KCi8qKgogKiBAZmlsZW92ZXJ2aWV3IEhlbHBlcnMgZm9yIGdvb2dsZS5jb2xhYiBQeXRob24gbW9kdWxlLgogKi8KKGZ1bmN0aW9uKHNjb3BlKSB7CmZ1bmN0aW9uIHNwYW4odGV4dCwgc3R5bGVBdHRyaWJ1dGVzID0ge30pIHsKICBjb25zdCBlbGVtZW50ID0gZG9jdW1lbnQuY3JlYXRlRWxlbWVudCgnc3BhbicpOwogIGVsZW1lbnQudGV4dENvbnRlbnQgPSB0ZXh0OwogIGZvciAoY29uc3Qga2V5IG9mIE9iamVjdC5rZXlzKHN0eWxlQXR0cmlidXRlcykpIHsKICAgIGVsZW1lbnQuc3R5bGVba2V5XSA9IHN0eWxlQXR0cmlidXRlc1trZXldOwogIH0KICByZXR1cm4gZWxlbWVudDsKfQoKLy8gTWF4IG51bWJlciBvZiBieXRlcyB3aGljaCB3aWxsIGJlIHVwbG9hZGVkIGF0IGEgdGltZS4KY29uc3QgTUFYX1BBWUxPQURfU0laRSA9IDEwMCAqIDEwMjQ7CgpmdW5jdGlvbiBfdXBsb2FkRmlsZXMoaW5wdXRJZCwgb3V0cHV0SWQpIHsKICBjb25zdCBzdGVwcyA9IHVwbG9hZEZpbGVzU3RlcChpbnB1dElkLCBvdXRwdXRJZCk7CiAgY29uc3Qgb3V0cHV0RWxlbWVudCA9IGRvY3VtZW50LmdldEVsZW1lbnRCeUlkKG91dHB1dElkKTsKICAvLyBDYWNoZSBzdGVwcyBvbiB0aGUgb3V0cHV0RWxlbWVudCB0byBtYWtlIGl0IGF2YWlsYWJsZSBmb3IgdGhlIG5leHQgY2FsbAogIC8vIHRvIHVwbG9hZEZpbGVzQ29udGludWUgZnJvbSBQeXRob24uCiAgb3V0cHV0RWxlbWVudC5zdGVwcyA9IHN0ZXBzOwoKICByZXR1cm4gX3VwbG9hZEZpbGVzQ29udGludWUob3V0cHV0SWQpOwp9CgovLyBUaGlzIGlzIHJvdWdobHkgYW4gYXN5bmMgZ2VuZXJhdG9yIChub3Qgc3VwcG9ydGVkIGluIHRoZSBicm93c2VyIHlldCksCi8vIHdoZXJlIHRoZXJlIGFyZSBtdWx0aXBsZSBhc3luY2hyb25vdXMgc3RlcHMgYW5kIHRoZSBQeXRob24gc2lkZSBpcyBnb2luZwovLyB0byBwb2xsIGZvciBjb21wbGV0aW9uIG9mIGVhY2ggc3RlcC4KLy8gVGhpcyB1c2VzIGEgUHJvbWlzZSB0byBibG9jayB0aGUgcHl0aG9uIHNpZGUgb24gY29tcGxldGlvbiBvZiBlYWNoIHN0ZXAsCi8vIHRoZW4gcGFzc2VzIHRoZSByZXN1bHQgb2YgdGhlIHByZXZpb3VzIHN0ZXAgYXMgdGhlIGlucHV0IHRvIHRoZSBuZXh0IHN0ZXAuCmZ1bmN0aW9uIF91cGxvYWRGaWxlc0NvbnRpbnVlKG91dHB1dElkKSB7CiAgY29uc3Qgb3V0cHV0RWxlbWVudCA9IGRvY3VtZW50LmdldEVsZW1lbnRCeUlkKG91dHB1dElkKTsKICBjb25zdCBzdGVwcyA9IG91dHB1dEVsZW1lbnQuc3RlcHM7CgogIGNvbnN0IG5leHQgPSBzdGVwcy5uZXh0KG91dHB1dEVsZW1lbnQubGFzdFByb21pc2VWYWx1ZSk7CiAgcmV0dXJuIFByb21pc2UucmVzb2x2ZShuZXh0LnZhbHVlLnByb21pc2UpLnRoZW4oKHZhbHVlKSA9PiB7CiAgICAvLyBDYWNoZSB0aGUgbGFzdCBwcm9taXNlIHZhbHVlIHRvIG1ha2UgaXQgYXZhaWxhYmxlIHRvIHRoZSBuZXh0CiAgICAvLyBzdGVwIG9mIHRoZSBnZW5lcmF0b3IuCiAgICBvdXRwdXRFbGVtZW50Lmxhc3RQcm9taXNlVmFsdWUgPSB2YWx1ZTsKICAgIHJldHVybiBuZXh0LnZhbHVlLnJlc3BvbnNlOwogIH0pOwp9CgovKioKICogR2VuZXJhdG9yIGZ1bmN0aW9uIHdoaWNoIGlzIGNhbGxlZCBiZXR3ZWVuIGVhY2ggYXN5bmMgc3RlcCBvZiB0aGUgdXBsb2FkCiAqIHByb2Nlc3MuCiAqIEBwYXJhbSB7c3RyaW5nfSBpbnB1dElkIEVsZW1lbnQgSUQgb2YgdGhlIGlucHV0IGZpbGUgcGlja2VyIGVsZW1lbnQuCiAqIEBwYXJhbSB7c3RyaW5nfSBvdXRwdXRJZCBFbGVtZW50IElEIG9mIHRoZSBvdXRwdXQgZGlzcGxheS4KICogQHJldHVybiB7IUl0ZXJhYmxlPCFPYmplY3Q+fSBJdGVyYWJsZSBvZiBuZXh0IHN0ZXBzLgogKi8KZnVuY3Rpb24qIHVwbG9hZEZpbGVzU3RlcChpbnB1dElkLCBvdXRwdXRJZCkgewogIGNvbnN0IGlucHV0RWxlbWVudCA9IGRvY3VtZW50LmdldEVsZW1lbnRCeUlkKGlucHV0SWQpOwogIGlucHV0RWxlbWVudC5kaXNhYmxlZCA9IGZhbHNlOwoKICBjb25zdCBvdXRwdXRFbGVtZW50ID0gZG9jdW1lbnQuZ2V0RWxlbWVudEJ5SWQob3V0cHV0SWQpOwogIG91dHB1dEVsZW1lbnQuaW5uZXJIVE1MID0gJyc7CgogIGNvbnN0IHBpY2tlZFByb21pc2UgPSBuZXcgUHJvbWlzZSgocmVzb2x2ZSkgPT4gewogICAgaW5wdXRFbGVtZW50LmFkZEV2ZW50TGlzdGVuZXIoJ2NoYW5nZScsIChlKSA9PiB7CiAgICAgIHJlc29sdmUoZS50YXJnZXQuZmlsZXMpOwogICAgfSk7CiAgfSk7CgogIGNvbnN0IGNhbmNlbCA9IGRvY3VtZW50LmNyZWF0ZUVsZW1lbnQoJ2J1dHRvbicpOwogIGlucHV0RWxlbWVudC5wYXJlbnRFbGVtZW50LmFwcGVuZENoaWxkKGNhbmNlbCk7CiAgY2FuY2VsLnRleHRDb250ZW50ID0gJ0NhbmNlbCB1cGxvYWQnOwogIGNvbnN0IGNhbmNlbFByb21pc2UgPSBuZXcgUHJvbWlzZSgocmVzb2x2ZSkgPT4gewogICAgY2FuY2VsLm9uY2xpY2sgPSAoKSA9PiB7CiAgICAgIHJlc29sdmUobnVsbCk7CiAgICB9OwogIH0pOwoKICAvLyBXYWl0IGZvciB0aGUgdXNlciB0byBwaWNrIHRoZSBmaWxlcy4KICBjb25zdCBmaWxlcyA9IHlpZWxkIHsKICAgIHByb21pc2U6IFByb21pc2UucmFjZShbcGlja2VkUHJvbWlzZSwgY2FuY2VsUHJvbWlzZV0pLAogICAgcmVzcG9uc2U6IHsKICAgICAgYWN0aW9uOiAnc3RhcnRpbmcnLAogICAgfQogIH07CgogIGNhbmNlbC5yZW1vdmUoKTsKCiAgLy8gRGlzYWJsZSB0aGUgaW5wdXQgZWxlbWVudCBzaW5jZSBmdXJ0aGVyIHBpY2tzIGFyZSBub3QgYWxsb3dlZC4KICBpbnB1dEVsZW1lbnQuZGlzYWJsZWQgPSB0cnVlOwoKICBpZiAoIWZpbGVzKSB7CiAgICByZXR1cm4gewogICAgICByZXNwb25zZTogewogICAgICAgIGFjdGlvbjogJ2NvbXBsZXRlJywKICAgICAgfQogICAgfTsKICB9CgogIGZvciAoY29uc3QgZmlsZSBvZiBmaWxlcykgewogICAgY29uc3QgbGkgPSBkb2N1bWVudC5jcmVhdGVFbGVtZW50KCdsaScpOwogICAgbGkuYXBwZW5kKHNwYW4oZmlsZS5uYW1lLCB7Zm9udFdlaWdodDogJ2JvbGQnfSkpOwogICAgbGkuYXBwZW5kKHNwYW4oCiAgICAgICAgYCgke2ZpbGUudHlwZSB8fCAnbi9hJ30pIC0gJHtmaWxlLnNpemV9IGJ5dGVzLCBgICsKICAgICAgICBgbGFzdCBtb2RpZmllZDogJHsKICAgICAgICAgICAgZmlsZS5sYXN0TW9kaWZpZWREYXRlID8gZmlsZS5sYXN0TW9kaWZpZWREYXRlLnRvTG9jYWxlRGF0ZVN0cmluZygpIDoKICAgICAgICAgICAgICAgICAgICAgICAgICAgICAgICAgICAgJ24vYSd9IC0gYCkpOwogICAgY29uc3QgcGVyY2VudCA9IHNwYW4oJzAlIGRvbmUnKTsKICAgIGxpLmFwcGVuZENoaWxkKHBlcmNlbnQpOwoKICAgIG91dHB1dEVsZW1lbnQuYXBwZW5kQ2hpbGQobGkpOwoKICAgIGNvbnN0IGZpbGVEYXRhUHJvbWlzZSA9IG5ldyBQcm9taXNlKChyZXNvbHZlKSA9PiB7CiAgICAgIGNvbnN0IHJlYWRlciA9IG5ldyBGaWxlUmVhZGVyKCk7CiAgICAgIHJlYWRlci5vbmxvYWQgPSAoZSkgPT4gewogICAgICAgIHJlc29sdmUoZS50YXJnZXQucmVzdWx0KTsKICAgICAgfTsKICAgICAgcmVhZGVyLnJlYWRBc0FycmF5QnVmZmVyKGZpbGUpOwogICAgfSk7CiAgICAvLyBXYWl0IGZvciB0aGUgZGF0YSB0byBiZSByZWFkeS4KICAgIGxldCBmaWxlRGF0YSA9IHlpZWxkIHsKICAgICAgcHJvbWlzZTogZmlsZURhdGFQcm9taXNlLAogICAgICByZXNwb25zZTogewogICAgICAgIGFjdGlvbjogJ2NvbnRpbnVlJywKICAgICAgfQogICAgfTsKCiAgICAvLyBVc2UgYSBjaHVua2VkIHNlbmRpbmcgdG8gYXZvaWQgbWVzc2FnZSBzaXplIGxpbWl0cy4gU2VlIGIvNjIxMTU2NjAuCiAgICBsZXQgcG9zaXRpb24gPSAwOwogICAgd2hpbGUgKHBvc2l0aW9uIDwgZmlsZURhdGEuYnl0ZUxlbmd0aCkgewogICAgICBjb25zdCBsZW5ndGggPSBNYXRoLm1pbihmaWxlRGF0YS5ieXRlTGVuZ3RoIC0gcG9zaXRpb24sIE1BWF9QQVlMT0FEX1NJWkUpOwogICAgICBjb25zdCBjaHVuayA9IG5ldyBVaW50OEFycmF5KGZpbGVEYXRhLCBwb3NpdGlvbiwgbGVuZ3RoKTsKICAgICAgcG9zaXRpb24gKz0gbGVuZ3RoOwoKICAgICAgY29uc3QgYmFzZTY0ID0gYnRvYShTdHJpbmcuZnJvbUNoYXJDb2RlLmFwcGx5KG51bGwsIGNodW5rKSk7CiAgICAgIHlpZWxkIHsKICAgICAgICByZXNwb25zZTogewogICAgICAgICAgYWN0aW9uOiAnYXBwZW5kJywKICAgICAgICAgIGZpbGU6IGZpbGUubmFtZSwKICAgICAgICAgIGRhdGE6IGJhc2U2NCwKICAgICAgICB9LAogICAgICB9OwogICAgICBwZXJjZW50LnRleHRDb250ZW50ID0KICAgICAgICAgIGAke01hdGgucm91bmQoKHBvc2l0aW9uIC8gZmlsZURhdGEuYnl0ZUxlbmd0aCkgKiAxMDApfSUgZG9uZWA7CiAgICB9CiAgfQoKICAvLyBBbGwgZG9uZS4KICB5aWVsZCB7CiAgICByZXNwb25zZTogewogICAgICBhY3Rpb246ICdjb21wbGV0ZScsCiAgICB9CiAgfTsKfQoKc2NvcGUuZ29vZ2xlID0gc2NvcGUuZ29vZ2xlIHx8IHt9OwpzY29wZS5nb29nbGUuY29sYWIgPSBzY29wZS5nb29nbGUuY29sYWIgfHwge307CnNjb3BlLmdvb2dsZS5jb2xhYi5fZmlsZXMgPSB7CiAgX3VwbG9hZEZpbGVzLAogIF91cGxvYWRGaWxlc0NvbnRpbnVlLAp9Owp9KShzZWxmKTsK",
              "ok": true,
              "headers": [
                [
                  "content-type",
                  "application/javascript"
                ]
              ],
              "status": 200,
              "status_text": ""
            }
          },
          "base_uri": "https://localhost:8080/",
          "height": 73
        },
        "outputId": "3ecbeb02-6442-4970-a61c-7a854c7f1891"
      },
      "source": [
        "uploaded=files.upload()"
      ],
      "execution_count": null,
      "outputs": [
        {
          "output_type": "display_data",
          "data": {
            "text/html": [
              "\n",
              "     <input type=\"file\" id=\"files-8844dd41-4546-4e8c-b972-e7608fd1b3be\" name=\"files[]\" multiple disabled\n",
              "        style=\"border:none\" />\n",
              "     <output id=\"result-8844dd41-4546-4e8c-b972-e7608fd1b3be\">\n",
              "      Upload widget is only available when the cell has been executed in the\n",
              "      current browser session. Please rerun this cell to enable.\n",
              "      </output>\n",
              "      <script src=\"/nbextensions/google.colab/files.js\"></script> "
            ],
            "text/plain": [
              "<IPython.core.display.HTML object>"
            ]
          },
          "metadata": {
            "tags": []
          }
        },
        {
          "output_type": "stream",
          "text": [
            "Saving unzip_me_for_instructions.zip to unzip_me_for_instructions.zip\n"
          ],
          "name": "stdout"
        }
      ]
    },
    {
      "cell_type": "code",
      "metadata": {
        "id": "bewOwvOvJFmY",
        "colab_type": "code",
        "colab": {
          "base_uri": "https://localhost:8080/",
          "height": 34
        },
        "outputId": "58fb7846-b8a3-4216-a742-5884a56d3dfb"
      },
      "source": [
        "!ls"
      ],
      "execution_count": null,
      "outputs": [
        {
          "output_type": "stream",
          "text": [
            "sample_data  unzip_me_for_instructions.zip\n"
          ],
          "name": "stdout"
        }
      ]
    },
    {
      "cell_type": "code",
      "metadata": {
        "id": "vZFW4ede9mcR",
        "colab_type": "code",
        "colab": {
          "base_uri": "https://localhost:8080/",
          "height": 1000
        },
        "outputId": "fc683b85-24a3-4dca-a535-9ecaf226dfd7"
      },
      "source": [
        "!unzip unzip_me_for_instructions.zip"
      ],
      "execution_count": null,
      "outputs": [
        {
          "output_type": "stream",
          "text": [
            "Archive:  unzip_me_for_instructions.zip\n",
            "   creating: extracted_content/\n",
            "   creating: extracted_content/Five/\n",
            "  inflating: extracted_content/Five/AEITMYIRQLP.txt  \n",
            "  inflating: extracted_content/Five/APJKSRITGGX.txt  \n",
            "  inflating: extracted_content/Five/AQKATDFGXTS.txt  \n",
            "  inflating: extracted_content/Five/ARLKFCWIAJE.txt  \n",
            "  inflating: extracted_content/Five/AXJGVPVEFAS.txt  \n",
            "  inflating: extracted_content/Five/BNUQEHCFRTG.txt  \n",
            "  inflating: extracted_content/Five/BSKJDRNEZQM.txt  \n",
            "  inflating: extracted_content/Five/BTYWAHLHKBM.txt  \n",
            "  inflating: extracted_content/Five/BUGKBZWRRVI.txt  \n",
            "  inflating: extracted_content/Five/BVBURZZCAPR.txt  \n",
            "  inflating: extracted_content/Five/CAHBEVSVDDN.txt  \n",
            "  inflating: extracted_content/Five/COMGMZBJAYE.txt  \n",
            "  inflating: extracted_content/Five/CRFSDGYFSHA.txt  \n",
            "  inflating: extracted_content/Five/CSCLFZCDYYC.txt  \n",
            "  inflating: extracted_content/Five/CXBVCTRBBIE.txt  \n",
            "  inflating: extracted_content/Five/DDLASODUVPX.txt  \n",
            "  inflating: extracted_content/Five/DHZBAAYEADM.txt  \n",
            "  inflating: extracted_content/Five/DQPZQLBCJYP.txt  \n",
            "  inflating: extracted_content/Five/DYOPIIVMZOO.txt  \n",
            "  inflating: extracted_content/Five/DZUWWXYIAEL.txt  \n",
            "  inflating: extracted_content/Five/EAAOEPSAWMQ.txt  \n",
            "  inflating: extracted_content/Five/EIPWXMQZJKU.txt  \n",
            "  inflating: extracted_content/Five/ESIZWBHMGDP.txt  \n",
            "  inflating: extracted_content/Five/ETCUEXWNBCF.txt  \n",
            "  inflating: extracted_content/Five/EYTCGIOYWIW.txt  \n",
            "   creating: extracted_content/Four/\n",
            "  inflating: extracted_content/Four/ECIOBYCDVFI.txt  \n",
            "  inflating: extracted_content/Four/EMTGPSXQEJX.txt  \n",
            "  inflating: extracted_content/Four/EPRNUHRSESC.txt  \n",
            "  inflating: extracted_content/Four/ESDIZXHYCVY.txt  \n",
            "  inflating: extracted_content/Four/EXVQSVBQQQH.txt  \n",
            "  inflating: extracted_content/Four/QCTCKDIBBVG.txt  \n",
            "  inflating: extracted_content/Four/QCWCFLKNZMN.txt  \n",
            "  inflating: extracted_content/Four/QDDETWBHJYC.txt  \n",
            "  inflating: extracted_content/Four/QTDYYIFPHAU.txt  \n",
            "  inflating: extracted_content/Four/QVNJULGXNUM.txt  \n",
            "  inflating: extracted_content/Four/REAXWSOIQDY.txt  \n",
            "  inflating: extracted_content/Four/ROICPTWKXDX.txt  \n",
            "  inflating: extracted_content/Four/RSXOTNGKBML.txt  \n",
            "  inflating: extracted_content/Four/RXDARIDGKBF.txt  \n",
            "  inflating: extracted_content/Four/RYNXFYXMKHG.txt  \n",
            "  inflating: extracted_content/Four/TAKNAVDMZKV.txt  \n",
            "  inflating: extracted_content/Four/THPNEGKTJWI.txt  \n",
            "  inflating: extracted_content/Four/TJFMLJODVAD.txt  \n",
            "  inflating: extracted_content/Four/TKCZSFQNJTX.txt  \n",
            "  inflating: extracted_content/Four/TWUOYFCCYBQ.txt  \n",
            "  inflating: extracted_content/Four/WFSKPTXPFCH.txt  \n",
            "  inflating: extracted_content/Four/WHTOHQUWXIN.txt  \n",
            "  inflating: extracted_content/Four/WNJISWPEBRS.txt  \n",
            "  inflating: extracted_content/Four/WXDJDOGZEHN.txt  \n",
            "  inflating: extracted_content/Four/WYDLGSGGXKV.txt  \n",
            "  inflating: extracted_content/Instructions.txt  \n",
            "   creating: extracted_content/One/\n",
            "  inflating: extracted_content/One/HDOHZHFSTTK.txt  \n",
            "  inflating: extracted_content/One/HFUTPPAXDIS.txt  \n",
            "  inflating: extracted_content/One/HMNZTLIFGPD.txt  \n",
            "  inflating: extracted_content/One/HRQFTHKVJTL.txt  \n",
            "  inflating: extracted_content/One/HVUTZEVMSBW.txt  \n",
            "  inflating: extracted_content/One/JDLRVFCXYLU.txt  \n",
            "  inflating: extracted_content/One/JEHBLZPUPSP.txt  \n",
            "  inflating: extracted_content/One/JLTXKIGCWDL.txt  \n",
            "  inflating: extracted_content/One/JQUOBKFUACN.txt  \n",
            "  inflating: extracted_content/One/JTHSNBNPQSE.txt  \n",
            "  inflating: extracted_content/One/KCXGNQCZBLO.txt  \n",
            "  inflating: extracted_content/One/KFIUZFERLET.txt  \n",
            "  inflating: extracted_content/One/KMMLGJOWLGI.txt  \n",
            "  inflating: extracted_content/One/KNBSKDREHQU.txt  \n",
            "  inflating: extracted_content/One/KTXDHIOKAUI.txt  \n",
            "  inflating: extracted_content/One/LDGOCUQJNNS.txt  \n",
            "  inflating: extracted_content/One/LFEATJAAYDC.txt  \n",
            "  inflating: extracted_content/One/LHODFIKVTQA.txt  \n",
            "  inflating: extracted_content/One/LIFDHOFKWOI.txt  \n",
            "  inflating: extracted_content/One/LPNDVDXPZIG.txt  \n",
            "  inflating: extracted_content/One/PDJMSMNKIRM.txt  \n",
            "  inflating: extracted_content/One/PHWAVPEKAER.txt  \n",
            "  inflating: extracted_content/One/PLYCGPVEAWO.txt  \n",
            "  inflating: extracted_content/One/PQNVCVJINAR.txt  \n",
            "  inflating: extracted_content/One/PTOBBCJYURJ.txt  \n",
            "   creating: extracted_content/Three/\n",
            "  inflating: extracted_content/Three/VAQIJTDOFUJ.txt  \n",
            "  inflating: extracted_content/Three/VCFJCGJFBIH.txt  \n",
            "  inflating: extracted_content/Three/VSXFSTABZDY.txt  \n",
            "  inflating: extracted_content/Three/VVHFVZUNLOO.txt  \n",
            "  inflating: extracted_content/Three/VVKGWLRMHLU.txt  \n",
            "  inflating: extracted_content/Three/XAJMCPEWFNI.txt  \n",
            "  inflating: extracted_content/Three/XFHJOTNPEJG.txt  \n",
            "  inflating: extracted_content/Three/XHZPVUQTXIO.txt  \n",
            "  inflating: extracted_content/Three/XJCWENFFGHB.txt  \n",
            "  inflating: extracted_content/Three/XVMPVSVYKFR.txt  \n",
            "  inflating: extracted_content/Three/YCESZHJDBXH.txt  \n",
            "  inflating: extracted_content/Three/YDQFMWXOUMW.txt  \n",
            "  inflating: extracted_content/Three/YQBIUHSUEVW.txt  \n",
            "  inflating: extracted_content/Three/YQRNCMNFFHW.txt  \n",
            "  inflating: extracted_content/Three/YYIZGBTQHZP.txt  \n",
            "  inflating: extracted_content/Three/ZEZKKRBIZEB.txt  \n",
            "  inflating: extracted_content/Three/ZKQJXAYKPVD.txt  \n",
            "  inflating: extracted_content/Three/ZOWVXWPOGWP.txt  \n",
            "  inflating: extracted_content/Three/ZXEZRQXZNPG.txt  \n",
            "  inflating: extracted_content/Three/ZXIBJMPROKW.txt  \n",
            "   creating: extracted_content/Two/\n",
            "  inflating: extracted_content/Two/GKQBQRCTNNK.txt  \n",
            "  inflating: extracted_content/Two/GMMQQUBMJNR.txt  \n",
            "  inflating: extracted_content/Two/GQTJJORZBXY.txt  \n",
            "  inflating: extracted_content/Two/GTOTCIWMDBY.txt  \n",
            "  inflating: extracted_content/Two/GXYSEPAFRTP.txt  \n",
            "  inflating: extracted_content/Two/HARDNJGDRBC.txt  \n",
            "  inflating: extracted_content/Two/HEORIXOTANT.txt  \n",
            "  inflating: extracted_content/Two/HMUTDOVNYTV.txt  \n",
            "  inflating: extracted_content/Two/HMZXPBOPRAE.txt  \n",
            "  inflating: extracted_content/Two/HTOHSTYXTCO.txt  \n",
            "  inflating: extracted_content/Two/LCJZYDHBFRM.txt  \n",
            "  inflating: extracted_content/Two/LSQSTGPIGIY.txt  \n",
            "  inflating: extracted_content/Two/LULTNYAQEJG.txt  \n",
            "  inflating: extracted_content/Two/LVMBINRBJXL.txt  \n",
            "  inflating: extracted_content/Two/LYZEQCVYNEZ.txt  \n",
            "  inflating: extracted_content/Two/OHZOUOSFJQC.txt  \n",
            "  inflating: extracted_content/Two/OIHMLGMWTHL.txt  \n",
            "  inflating: extracted_content/Two/OKWFOOYTXFU.txt  \n",
            "  inflating: extracted_content/Two/OMWIMVRCMYM.txt  \n",
            "  inflating: extracted_content/Two/OYMAGXAGWHJ.txt  \n",
            "  inflating: extracted_content/Two/SIKFPPLCJDN.txt  \n",
            "  inflating: extracted_content/Two/SJMJLDGPBSJ.txt  \n",
            "  inflating: extracted_content/Two/SOFUJYXTIMK.txt  \n",
            "  inflating: extracted_content/Two/SPDZYGDHEWO.txt  \n",
            "  inflating: extracted_content/Two/SWOFXREEHWA.txt  \n"
          ],
          "name": "stdout"
        }
      ]
    },
    {
      "cell_type": "code",
      "metadata": {
        "id": "L6pIfUtl9mYD",
        "colab_type": "code",
        "colab": {
          "base_uri": "https://localhost:8080/",
          "height": 34
        },
        "outputId": "ba4c3263-2c37-4e54-e3a9-38e3796e317a"
      },
      "source": [
        "!ls\n"
      ],
      "execution_count": null,
      "outputs": [
        {
          "output_type": "stream",
          "text": [
            "extracted_content  sample_data\tunzip_me_for_instructions.zip\n"
          ],
          "name": "stdout"
        }
      ]
    },
    {
      "cell_type": "code",
      "metadata": {
        "id": "8p8maKeb9mN8",
        "colab_type": "code",
        "colab": {
          "base_uri": "https://localhost:8080/",
          "height": 34
        },
        "outputId": "c889cfb4-bee7-4ae2-b511-1e01e74ad98c"
      },
      "source": [
        "cd extracted_content/"
      ],
      "execution_count": null,
      "outputs": [
        {
          "output_type": "stream",
          "text": [
            "/content/extracted_content\n"
          ],
          "name": "stdout"
        }
      ]
    },
    {
      "cell_type": "code",
      "metadata": {
        "id": "XmFukGYH9mKM",
        "colab_type": "code",
        "colab": {
          "base_uri": "https://localhost:8080/",
          "height": 34
        },
        "outputId": "c6f0b9a5-4f1b-40dc-86c0-1f22fcc94d9d"
      },
      "source": [
        "!ls"
      ],
      "execution_count": null,
      "outputs": [
        {
          "output_type": "stream",
          "text": [
            "Five  Four  Instructions.txt  One  Three  Two\n"
          ],
          "name": "stdout"
        }
      ]
    },
    {
      "cell_type": "code",
      "metadata": {
        "id": "PVkP2na59mHD",
        "colab_type": "code",
        "colab": {}
      },
      "source": [
        "temp =open('Instructions.txt', 'r')"
      ],
      "execution_count": null,
      "outputs": []
    },
    {
      "cell_type": "code",
      "metadata": {
        "id": "oY_itnY79mDH",
        "colab_type": "code",
        "colab": {}
      },
      "source": [
        "temp_content=temp.read()"
      ],
      "execution_count": null,
      "outputs": []
    },
    {
      "cell_type": "code",
      "metadata": {
        "id": "DmTLnkeqAIOK",
        "colab_type": "code",
        "colab": {
          "base_uri": "https://localhost:8080/",
          "height": 122
        },
        "outputId": "83c12f7a-5e4c-4e2d-d042-2f21174eeb88"
      },
      "source": [
        "print (temp_content)"
      ],
      "execution_count": null,
      "outputs": [
        {
          "output_type": "stream",
          "text": [
            "Good work on unzipping the file!\n",
            "You should now see 5 folders, each with a lot of random .txt files.\n",
            "Within one of these text files is a telephone number formated ###-###-#### \n",
            "Use the Python os module and regular expressions to iterate through each file, open it, and search for a telephone number.\n",
            "Good luck!\n"
          ],
          "name": "stdout"
        }
      ]
    },
    {
      "cell_type": "code",
      "metadata": {
        "id": "oGpaE-SYAt5M",
        "colab_type": "code",
        "colab": {}
      },
      "source": [
        "import os"
      ],
      "execution_count": null,
      "outputs": []
    },
    {
      "cell_type": "code",
      "metadata": {
        "id": "w15T7LHfCqjl",
        "colab_type": "code",
        "colab": {}
      },
      "source": [
        "import re"
      ],
      "execution_count": 58,
      "outputs": []
    },
    {
      "cell_type": "code",
      "metadata": {
        "id": "ZCeYBoTlBKql",
        "colab_type": "code",
        "colab": {}
      },
      "source": [
        "for folder , sub_folders , files in os.walk(\"./\"):\n",
        "  for f in files:\n",
        "    file_name=(folder+'/'+f)\n",
        "    opened_file=open(file_name,'r')\n",
        "    content=opened_file.read()\n",
        "    match=re.search(r'\\d{3}-\\d{3}-\\d{4}',content)\n",
        "    if match:\n",
        "      phone_number=match.group()\n",
        "    opened_file.close()\n"
      ],
      "execution_count": 70,
      "outputs": []
    },
    {
      "cell_type": "code",
      "metadata": {
        "id": "btMFw0m0H9VP",
        "colab_type": "code",
        "colab": {
          "base_uri": "https://localhost:8080/",
          "height": 35
        },
        "outputId": "c1d3f002-debf-43bf-ce8c-bc514827e69e"
      },
      "source": [
        "phone_number"
      ],
      "execution_count": 71,
      "outputs": [
        {
          "output_type": "execute_result",
          "data": {
            "application/vnd.google.colaboratory.intrinsic+json": {
              "type": "string"
            },
            "text/plain": [
              "'719-266-2837'"
            ]
          },
          "metadata": {
            "tags": []
          },
          "execution_count": 71
        }
      ]
    },
    {
      "cell_type": "code",
      "metadata": {
        "id": "-YUx8304Fa_W",
        "colab_type": "code",
        "colab": {}
      },
      "source": [
        ""
      ],
      "execution_count": null,
      "outputs": []
    }
  ]
}