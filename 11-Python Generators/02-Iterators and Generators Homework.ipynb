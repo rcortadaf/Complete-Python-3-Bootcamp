{
  "nbformat": 4,
  "nbformat_minor": 0,
  "metadata": {
    "kernelspec": {
      "display_name": "Python 3",
      "language": "python",
      "name": "python3"
    },
    "language_info": {
      "codemirror_mode": {
        "name": "ipython",
        "version": 3
      },
      "file_extension": ".py",
      "mimetype": "text/x-python",
      "name": "python",
      "nbconvert_exporter": "python",
      "pygments_lexer": "ipython3",
      "version": "3.6.6"
    },
    "colab": {
      "name": "02-Iterators and Generators Homework.ipynb",
      "provenance": [],
      "include_colab_link": true
    }
  },
  "cells": [
    {
      "cell_type": "markdown",
      "metadata": {
        "id": "view-in-github",
        "colab_type": "text"
      },
      "source": [
        "<a href=\"https://colab.research.google.com/github/rcortadaf/Complete-Python-3-Bootcamp/blob/master/11-Python%20Generators/02-Iterators%20and%20Generators%20Homework.ipynb\" target=\"_parent\"><img src=\"https://colab.research.google.com/assets/colab-badge.svg\" alt=\"Open In Colab\"/></a>"
      ]
    },
    {
      "cell_type": "markdown",
      "metadata": {
        "id": "hFGAXvZmOhjf",
        "colab_type": "text"
      },
      "source": [
        "___\n",
        "\n",
        "<a href='https://www.udemy.com/user/joseportilla/'><img src='https://github.com/rcortadaf/Complete-Python-3-Bootcamp/blob/master/Pierian_Data_Logo.png?raw=1'/></a>\n",
        "___\n",
        "<center><em>Content Copyright by Pierian Data</em></center>"
      ]
    },
    {
      "cell_type": "markdown",
      "metadata": {
        "id": "ZP_AP77tOhjj",
        "colab_type": "text"
      },
      "source": [
        "# Iterators and Generators Homework \n",
        "\n",
        "### Problem 1\n",
        "\n",
        "Create a generator that generates the squares of numbers up to some number N."
      ]
    },
    {
      "cell_type": "code",
      "metadata": {
        "id": "DfeYbEa4Ohjl",
        "colab_type": "code",
        "colab": {}
      },
      "source": [
        "def gensquares(N):\n",
        "  for i in range(0,N):\n",
        "    yield i**3"
      ],
      "execution_count": 2,
      "outputs": []
    },
    {
      "cell_type": "code",
      "metadata": {
        "id": "YIKXxwxjOhjz",
        "colab_type": "code",
        "colab": {
          "base_uri": "https://localhost:8080/",
          "height": 187
        },
        "outputId": "be448d26-db90-47ed-80e8-e8d5a747d98e"
      },
      "source": [
        "for x in gensquares(10):\n",
        "    print(x)"
      ],
      "execution_count": 3,
      "outputs": [
        {
          "output_type": "stream",
          "text": [
            "0\n",
            "1\n",
            "8\n",
            "27\n",
            "64\n",
            "125\n",
            "216\n",
            "343\n",
            "512\n",
            "729\n"
          ],
          "name": "stdout"
        }
      ]
    },
    {
      "cell_type": "markdown",
      "metadata": {
        "id": "rISyT9JtOhj_",
        "colab_type": "text"
      },
      "source": [
        "### Problem 2\n",
        "\n",
        "Create a generator that yields \"n\" random numbers between a low and high number (that are inputs). <br>Note: Use the random library. For example:"
      ]
    },
    {
      "cell_type": "code",
      "metadata": {
        "id": "FUwEOURdOhkC",
        "colab_type": "code",
        "colab": {
          "base_uri": "https://localhost:8080/",
          "height": 34
        },
        "outputId": "b480c5d1-b278-432a-db3b-636b1fe61848"
      },
      "source": [
        "import random\n",
        "\n",
        "random.randint(1,10)"
      ],
      "execution_count": 4,
      "outputs": [
        {
          "output_type": "execute_result",
          "data": {
            "text/plain": [
              "5"
            ]
          },
          "metadata": {
            "tags": []
          },
          "execution_count": 4
        }
      ]
    },
    {
      "cell_type": "code",
      "metadata": {
        "id": "C9RVYKrxOhkO",
        "colab_type": "code",
        "colab": {}
      },
      "source": [
        "def rand_num(low,high,n):\n",
        "  for i in range(0,n):\n",
        "    yield random.randint(low, high)"
      ],
      "execution_count": 9,
      "outputs": []
    },
    {
      "cell_type": "code",
      "metadata": {
        "id": "30T2XaUBOhkY",
        "colab_type": "code",
        "colab": {
          "base_uri": "https://localhost:8080/",
          "height": 221
        },
        "outputId": "8db09347-6d07-4d4b-8b62-c1c4ee47112e"
      },
      "source": [
        "for num in rand_num(1,10,12):\n",
        "    print(num)"
      ],
      "execution_count": 10,
      "outputs": [
        {
          "output_type": "stream",
          "text": [
            "1\n",
            "9\n",
            "7\n",
            "5\n",
            "4\n",
            "8\n",
            "5\n",
            "2\n",
            "10\n",
            "1\n",
            "8\n",
            "8\n"
          ],
          "name": "stdout"
        }
      ]
    },
    {
      "cell_type": "markdown",
      "metadata": {
        "id": "RPRjEiBqOhki",
        "colab_type": "text"
      },
      "source": [
        "### Problem 3\n",
        "\n",
        "Use the iter() function to convert the string below into an iterator:\n"
      ]
    },
    {
      "cell_type": "code",
      "metadata": {
        "id": "hYYInVC6Ohkk",
        "colab_type": "code",
        "colab": {
          "base_uri": "https://localhost:8080/",
          "height": 102
        },
        "outputId": "7d47c267-c009-4652-ff41-ebf725c1f0da"
      },
      "source": [
        "s = 'hello'\n",
        "for i in iter(s):\n",
        "  print(i)\n",
        "\n",
        "#code here"
      ],
      "execution_count": 12,
      "outputs": [
        {
          "output_type": "stream",
          "text": [
            "h\n",
            "e\n",
            "l\n",
            "l\n",
            "o\n"
          ],
          "name": "stdout"
        }
      ]
    },
    {
      "cell_type": "markdown",
      "metadata": {
        "id": "6K1t_v0yOhkx",
        "colab_type": "text"
      },
      "source": [
        "### Problem 4\n",
        "Explain a use case for a generator using a yield statement where you would not want to use a normal function with a return statement.<br><br><br><br><br><br>\n",
        "\n"
      ]
    },
    {
      "cell_type": "markdown",
      "metadata": {
        "id": "Gttqe0sSOhkz",
        "colab_type": "text"
      },
      "source": [
        "### Extra Credit!\n",
        "Can you explain what *gencomp* is in the code below? (Note: We never covered this in lecture! You will have to do some Googling/Stack Overflowing!)"
      ]
    },
    {
      "cell_type": "code",
      "metadata": {
        "id": "ZWbgqC2COhk1",
        "colab_type": "code",
        "colab": {},
        "outputId": "de692dda-b231-4c5b-ec1b-c21adb5b5e7a"
      },
      "source": [
        "my_list = [1,2,3,4,5]\n",
        "\n",
        "gencomp = (item for item in my_list if item > 3)\n",
        "\n",
        "for item in gencomp:\n",
        "    print(item)"
      ],
      "execution_count": null,
      "outputs": [
        {
          "output_type": "stream",
          "text": [
            "4\n",
            "5\n"
          ],
          "name": "stdout"
        }
      ]
    },
    {
      "cell_type": "markdown",
      "metadata": {
        "id": "XcZx4vRdOhk9",
        "colab_type": "text"
      },
      "source": [
        "Hint: Google *generator comprehension*!\n",
        "\n",
        "# Great Job!"
      ]
    }
  ]
}