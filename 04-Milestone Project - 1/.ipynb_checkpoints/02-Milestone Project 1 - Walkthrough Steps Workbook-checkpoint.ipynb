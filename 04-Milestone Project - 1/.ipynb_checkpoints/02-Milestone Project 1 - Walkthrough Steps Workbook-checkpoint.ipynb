{
  "nbformat": 4,
  "nbformat_minor": 0,
  "metadata": {
    "kernelspec": {
      "display_name": "Python 3",
      "language": "python",
      "name": "python3"
    },
    "language_info": {
      "codemirror_mode": {
        "name": "ipython",
        "version": 3
      },
      "file_extension": ".py",
      "mimetype": "text/x-python",
      "name": "python",
      "nbconvert_exporter": "python",
      "pygments_lexer": "ipython3",
      "version": "3.6.6"
    },
    "colab": {
      "name": "02-Milestone Project 1 - Walkthrough Steps Workbook-checkpoint.ipynb",
      "provenance": []
    }
  },
  "cells": [
    {
      "cell_type": "markdown",
      "metadata": {
        "id": "4b-vMynsOoyh",
        "colab_type": "text"
      },
      "source": [
        "___\n",
        "\n",
        "<a href='https://www.udemy.com/user/joseportilla/'><img src='https://github.com/rcortadaf/Complete-Python-3-Bootcamp/blob/master/04-Milestone%20Project%20-%201/Pierian_Data_Logo.png?raw=1'/></a>\n",
        "___\n",
        "<center><em>Content Copyright by Pierian Data</em></center>"
      ]
    },
    {
      "cell_type": "markdown",
      "metadata": {
        "id": "IQ0JxHKpOoyp",
        "colab_type": "text"
      },
      "source": [
        "# Milestone Project 1: Walkthrough Steps Workbook\n",
        "\n",
        "Below is a set of steps for you to follow to try to create the Tic Tac Toe Milestone Project game!"
      ]
    },
    {
      "cell_type": "markdown",
      "metadata": {
        "id": "YM-nOOqEOo0v",
        "colab_type": "text"
      },
      "source": [
        "#### Some suggested tools before you get started:\n",
        "To take input from a user:\n",
        "\n",
        "    player1 = input(\"Please pick a marker 'X' or 'O'\")\n",
        "    \n",
        "Note that input() takes in a string. If you need an integer value, use\n",
        "\n",
        "    position = int(input('Please enter a number'))\n",
        "    \n",
        "<br>To clear the screen between moves:\n",
        "\n",
        "    from IPython.display import clear_output\n",
        "    clear_output()\n",
        "    \n",
        "Note that clear_output() will only work in jupyter. To clear the screen in other IDEs, consider:\n",
        "\n",
        "    print('\\n'*100)\n",
        "    \n",
        "This scrolls the previous board up out of view. Now on to the program!"
      ]
    },
    {
      "cell_type": "markdown",
      "metadata": {
        "id": "vkVkmqTyOo0y",
        "colab_type": "text"
      },
      "source": [
        "**Step 1: Write a function that can print out a board. Set up your board as a list, where each index 1-9 corresponds with a number on a number pad, so you get a 3 by 3 board representation.**"
      ]
    },
    {
      "cell_type": "code",
      "metadata": {
        "id": "vdy5vYWoOo01",
        "colab_type": "code",
        "colab": {}
      },
      "source": [
        "from IPython.display import clear_output\n",
        "\n",
        "def display_board(board):\n",
        "  clear_output()\n",
        "  print(f'{board[0]} {board[1]} {board[2]}')\n",
        "  print(f'{board[3]} {board[4]} {board[5]}')\n",
        "  print(f'{board[6]} {board[7]} {board[8]}')\n",
        "    "
      ],
      "execution_count": 2,
      "outputs": []
    },
    {
      "cell_type": "markdown",
      "metadata": {
        "id": "TLd0-tTsOo1J",
        "colab_type": "text"
      },
      "source": [
        "**TEST Step 1:** run your function on a test version of the board list, and make adjustments as necessary"
      ]
    },
    {
      "cell_type": "code",
      "metadata": {
        "id": "QRVUFcqJOo1L",
        "colab_type": "code",
        "colab": {
          "base_uri": "https://localhost:8080/",
          "height": 68
        },
        "outputId": "703c8f7f-b729-4be9-96e4-5ecff1e314bc"
      },
      "source": [
        "test_board = ['#','X','O','X','O','X','O','X','O','X']\n",
        "display_board(test_board)"
      ],
      "execution_count": 3,
      "outputs": [
        {
          "output_type": "stream",
          "text": [
            "# X O\n",
            "X O X\n",
            "O X O\n"
          ],
          "name": "stdout"
        }
      ]
    },
    {
      "cell_type": "markdown",
      "metadata": {
        "id": "HelucOkKOo1b",
        "colab_type": "text"
      },
      "source": [
        "**Step 2: Write a function that can take in a player input and assign their marker as 'X' or 'O'. Think about using *while* loops to continually ask until you get a correct answer.**"
      ]
    },
    {
      "cell_type": "code",
      "metadata": {
        "id": "aMaza-hQOo1e",
        "colab_type": "code",
        "colab": {}
      },
      "source": [
        "def player_input():\n",
        "    mark_choice ='NULL'\n",
        "    while mark_choice not in ['O','X']:\n",
        "      mark_choice=input('Please input a marker (O or X): ')\n",
        "      if mark_choice not in ['O','X']:\n",
        "        print('Sorry, not a marker (O or X)')\n",
        "    \n",
        "    return mark_choice"
      ],
      "execution_count": 4,
      "outputs": []
    },
    {
      "cell_type": "markdown",
      "metadata": {
        "id": "5v7m0oK6Oo1s",
        "colab_type": "text"
      },
      "source": [
        "**TEST Step 2:** run the function to make sure it returns the desired output"
      ]
    },
    {
      "cell_type": "code",
      "metadata": {
        "id": "S81s-bKIOo1u",
        "colab_type": "code",
        "colab": {
          "base_uri": "https://localhost:8080/",
          "height": 52
        },
        "outputId": "411a6be5-3ca8-498f-e302-014da64cd386"
      },
      "source": [
        "player_input()"
      ],
      "execution_count": 4,
      "outputs": [
        {
          "output_type": "stream",
          "text": [
            "Please input a marker (O or X): X\n"
          ],
          "name": "stdout"
        },
        {
          "output_type": "execute_result",
          "data": {
            "application/vnd.google.colaboratory.intrinsic": {
              "type": "string"
            },
            "text/plain": [
              "'X'"
            ]
          },
          "metadata": {
            "tags": []
          },
          "execution_count": 4
        }
      ]
    },
    {
      "cell_type": "markdown",
      "metadata": {
        "id": "1Ge6dv0lOo1_",
        "colab_type": "text"
      },
      "source": [
        "**Step 3: Write a function that takes in the board list object, a marker ('X' or 'O'), and a desired position (number 1-9) and assigns it to the board.**"
      ]
    },
    {
      "cell_type": "code",
      "metadata": {
        "id": "Cp3lpjIYOo2C",
        "colab_type": "code",
        "colab": {}
      },
      "source": [
        "def place_marker(board, marker, position):\n",
        "    board[position]=marker\n",
        "    return board"
      ],
      "execution_count": 6,
      "outputs": []
    },
    {
      "cell_type": "markdown",
      "metadata": {
        "id": "JVN2KdMbOo2S",
        "colab_type": "text"
      },
      "source": [
        "**TEST Step 3:** run the place marker function using test parameters and display the modified board"
      ]
    },
    {
      "cell_type": "code",
      "metadata": {
        "id": "_Q_5abe8Oo2X",
        "colab_type": "code",
        "colab": {
          "base_uri": "https://localhost:8080/",
          "height": 68
        },
        "outputId": "94a59593-209d-467a-f43e-769aa3e6c229"
      },
      "source": [
        "test_board=place_marker(test_board,'$',8)\n",
        "display_board(test_board)"
      ],
      "execution_count": 6,
      "outputs": [
        {
          "output_type": "stream",
          "text": [
            "# X O\n",
            "X O X\n",
            "O X $\n"
          ],
          "name": "stdout"
        }
      ]
    },
    {
      "cell_type": "markdown",
      "metadata": {
        "id": "uQiusCbKOo24",
        "colab_type": "text"
      },
      "source": [
        "**Step 4: Write a function that takes in a board and a mark (X or O) and then checks to see if that mark has won. **"
      ]
    },
    {
      "cell_type": "code",
      "metadata": {
        "id": "tIPQIO06Oo26",
        "colab_type": "code",
        "colab": {}
      },
      "source": [
        "def win_check(board, mark):\n",
        "    win=[mark,mark,mark]\n",
        "    if board[0:3]==win:\n",
        "      return True\n",
        "    elif board[3:6]==win:\n",
        "      return True\n",
        "    elif board[6:]==win:\n",
        "      return True\n",
        "    elif [board[0],board[3],board[6]]==win:\n",
        "      return True\n",
        "    elif [board[1],board[4],board[7]]==win:\n",
        "      return True\n",
        "    elif [board[2],board[5],board[8]]==win:\n",
        "      return True\n",
        "    elif [board[0],board[4],board[8]]==win:\n",
        "      return True\n",
        "    elif [board[2],board[4],board[6]]==win:\n",
        "      return True\n",
        "    else:\n",
        "      return False"
      ],
      "execution_count": 7,
      "outputs": []
    },
    {
      "cell_type": "markdown",
      "metadata": {
        "id": "IjV8LUAFOo3F",
        "colab_type": "text"
      },
      "source": [
        "**TEST Step 4:** run the win_check function against our test_board - it should return True"
      ]
    },
    {
      "cell_type": "code",
      "metadata": {
        "id": "KZr6gxZ7a9Sd",
        "colab_type": "code",
        "colab": {
          "base_uri": "https://localhost:8080/",
          "height": 68
        },
        "outputId": "e56392f9-8e7e-4306-ddad-97c855fb0a47"
      },
      "source": [
        "test_board = ['X','O','O','O','X','O','O','O','X']\n",
        "display_board(test_board)"
      ],
      "execution_count": 8,
      "outputs": [
        {
          "output_type": "stream",
          "text": [
            "X O O\n",
            "O X O\n",
            "O O X\n"
          ],
          "name": "stdout"
        }
      ]
    },
    {
      "cell_type": "code",
      "metadata": {
        "id": "z1UoHxQhOo3H",
        "colab_type": "code",
        "colab": {
          "base_uri": "https://localhost:8080/",
          "height": 34
        },
        "outputId": "3b6628a3-8d65-44c9-fc4c-1e33fd39c41e"
      },
      "source": [
        "win_check(test_board,'X')"
      ],
      "execution_count": 9,
      "outputs": [
        {
          "output_type": "execute_result",
          "data": {
            "text/plain": [
              "True"
            ]
          },
          "metadata": {
            "tags": []
          },
          "execution_count": 9
        }
      ]
    },
    {
      "cell_type": "markdown",
      "metadata": {
        "id": "lq6ax_Q2Oo3R",
        "colab_type": "text"
      },
      "source": [
        "**Step 5: Write a function that uses the random module to randomly decide which player goes first. You may want to lookup random.randint() Return a string of which player went first.**"
      ]
    },
    {
      "cell_type": "code",
      "metadata": {
        "id": "afvYU4zOOo3U",
        "colab_type": "code",
        "colab": {}
      },
      "source": [
        "import random\n",
        "\n",
        "def choose_first():\n",
        "    return random.randint(0,1)"
      ],
      "execution_count": 8,
      "outputs": []
    },
    {
      "cell_type": "code",
      "metadata": {
        "id": "ylIIjRSX21BO",
        "colab_type": "code",
        "colab": {
          "base_uri": "https://localhost:8080/",
          "height": 34
        },
        "outputId": "b943d6e5-f7ba-4e0e-d7f5-432e67a5a5b6"
      },
      "source": [
        "choose_first()"
      ],
      "execution_count": 9,
      "outputs": [
        {
          "output_type": "execute_result",
          "data": {
            "text/plain": [
              "0"
            ]
          },
          "metadata": {
            "tags": []
          },
          "execution_count": 9
        }
      ]
    },
    {
      "cell_type": "markdown",
      "metadata": {
        "id": "F8olqKD3Oo3l",
        "colab_type": "text"
      },
      "source": [
        "**Step 6: Write a function that returns a boolean indicating whether a space on the board is freely available.**"
      ]
    },
    {
      "cell_type": "code",
      "metadata": {
        "id": "V34P_6wqOo3r",
        "colab_type": "code",
        "colab": {}
      },
      "source": [
        "def space_check(board, position):\n",
        "    if board[position] != 'X' and board[position]!='O':\n",
        "      return True\n",
        "    else:\n",
        "      return False"
      ],
      "execution_count": 10,
      "outputs": []
    },
    {
      "cell_type": "markdown",
      "metadata": {
        "id": "fkES-AL-Oo39",
        "colab_type": "text"
      },
      "source": [
        "**Step 7: Write a function that checks if the board is full and returns a boolean value. True if full, False otherwise.**"
      ]
    },
    {
      "cell_type": "code",
      "metadata": {
        "id": "pz5G-kFiOo4C",
        "colab_type": "code",
        "colab": {}
      },
      "source": [
        "def full_board_check(board):\n",
        "    for i in board:\n",
        "      if i =='X' or i=='O':\n",
        "        pass\n",
        "      else: \n",
        "        return False\n",
        "\n",
        "    return True\n",
        "    "
      ],
      "execution_count": 11,
      "outputs": []
    },
    {
      "cell_type": "markdown",
      "metadata": {
        "id": "m4-ZQFWjOo4N",
        "colab_type": "text"
      },
      "source": [
        "**Step 8: Write a function that asks for a player's next position (as a number 1-9) and then uses the function from step 6 to check if it's a free position. If it is, then return the position for later use.**"
      ]
    },
    {
      "cell_type": "code",
      "metadata": {
        "id": "ogU9XT5eOo4Q",
        "colab_type": "code",
        "colab": {}
      },
      "source": [
        "def player_choice(board):\n",
        "    \n",
        "    valid_range=['1','2','3','4','5','6','7','8','9']\n",
        "    free_space=False\n",
        "    num=\"\"\n",
        "    n=0\n",
        "    while num not in valid_range or free_space==False:\n",
        "      num=input(\"Please select a free board number (1-9: \")\n",
        "      if num not in valid_range:\n",
        "        print('Sorry, not in range')\n",
        "      else:\n",
        "        n=int(num)-1\n",
        "        free_space= space_check(board,n)\n",
        "        if not free_space:\n",
        "          print('Sorry, not free, pick another one')\n",
        "    return n"
      ],
      "execution_count": 14,
      "outputs": []
    },
    {
      "cell_type": "code",
      "metadata": {
        "id": "aOfPb1CVT4jA",
        "colab_type": "code",
        "colab": {
          "base_uri": "https://localhost:8080/",
          "height": 51
        },
        "outputId": "0505a16e-10b8-4720-e027-0fbe234c3d30"
      },
      "source": [
        "player_choice(test_board)"
      ],
      "execution_count": 16,
      "outputs": [
        {
          "output_type": "stream",
          "text": [
            "Please select a free board number (1-9: 1\n"
          ],
          "name": "stdout"
        },
        {
          "output_type": "execute_result",
          "data": {
            "text/plain": [
              "0"
            ]
          },
          "metadata": {
            "tags": []
          },
          "execution_count": 16
        }
      ]
    },
    {
      "cell_type": "markdown",
      "metadata": {
        "id": "OfZr5kZBOo4c",
        "colab_type": "text"
      },
      "source": [
        "**Step 9: Write a function that asks the player if they want to play again and returns a boolean True if they do want to play again.**"
      ]
    },
    {
      "cell_type": "code",
      "metadata": {
        "id": "P5uCqhM3Oo4e",
        "colab_type": "code",
        "colab": {}
      },
      "source": [
        "def replay():\n",
        "    \n",
        "  cont_choice ='NULL'\n",
        "  while cont_choice not in ['Y','N']:\n",
        "    cont_choice=input('Do you want to play again (Y or N): ')\n",
        "    if cont_choice not in ['Y','N']:\n",
        "      print(\"Sorry, I don't understand (O or X)\")\n",
        "    elif cont_choice == 'Y':\n",
        "      return True\n",
        "    else:\n",
        "      print(\"Good Bye\")\n",
        "      return False"
      ],
      "execution_count": 31,
      "outputs": []
    },
    {
      "cell_type": "markdown",
      "metadata": {
        "collapsed": true,
        "id": "cbTM_Q6sOo4o",
        "colab_type": "text"
      },
      "source": [
        "**Step 10: Here comes the hard part! Use while loops and the functions you've made to run the game!**"
      ]
    },
    {
      "cell_type": "code",
      "metadata": {
        "id": "oXwTXLo5Oo4p",
        "colab_type": "code",
        "colab": {
          "base_uri": "https://localhost:8080/",
          "height": 119
        },
        "outputId": "42983c07-1427-4894-aacb-e82faf9851db"
      },
      "source": [
        "from IPython.display import clear_output\n",
        "    \n",
        "print('Welcome to Tic Tac Toe!')\n",
        "\n",
        "  \n",
        "markers=['X','O']\n",
        "players={0:'',1:''}\n",
        "print(\"Player 1 Makr: \")  \n",
        "players[0]= player_input()\n",
        "if players[0]==markers[0]:\n",
        "  players[1]=markers[1]\n",
        "else:\n",
        "  players[1]=markers[0]\n",
        "print(f\"Player 2 goes with {players[1]}\")\n",
        "\n",
        "cont=True\n",
        "\n",
        "while cont==True:\n",
        "  game_board=['1','2','3','4','5','6','7','8','9']\n",
        "  full_board=False\n",
        "  who_is_next=choose_first()\n",
        "  print(f\"Player {who_is_next+1} is first this time\")\n",
        "  input(\"Hit Intro to continue\")\n",
        "  \n",
        "  while full_board==False:\n",
        "    display_board(game_board)\n",
        "    print(f\"Player {who_is_next+1}: \")\n",
        "    current_number=player_choice(game_board)\n",
        "    game_board=place_marker(game_board,players[who_is_next],current_number)\n",
        "    \n",
        "    if win_check(game_board,players[who_is_next]):\n",
        "      display_board(game_board)\n",
        "      print(f\"Player {who_is_next+1} wins!!\")\n",
        "      break\n",
        "    \n",
        "    if who_is_next==0:\n",
        "      who_is_next=1\n",
        "    else:\n",
        "      who_is_next=0\n",
        "    \n",
        "    full_board=full_board_check(game_board)\n",
        "    if full_board:\n",
        "      print (\"TIE!!\")\n",
        "  \n",
        "  cont=replay()\n",
        "\n"
      ],
      "execution_count": 33,
      "outputs": [
        {
          "output_type": "stream",
          "text": [
            "O O X\n",
            "4 X 6\n",
            "X O 9\n",
            "Player 1 wins!!\n",
            "Do you want to play again (Y or N): N\n",
            "Good Bye\n"
          ],
          "name": "stdout"
        }
      ]
    },
    {
      "cell_type": "markdown",
      "metadata": {
        "collapsed": true,
        "id": "bq1SOMiyOo4z",
        "colab_type": "text"
      },
      "source": [
        "## Good Job!"
      ]
    }
  ]
}