{
  "nbformat": 4,
  "nbformat_minor": 0,
  "metadata": {
    "kernelspec": {
      "display_name": "Python 3",
      "language": "python",
      "name": "python3"
    },
    "language_info": {
      "codemirror_mode": {
        "name": "ipython",
        "version": 3
      },
      "file_extension": ".py",
      "mimetype": "text/x-python",
      "name": "python",
      "nbconvert_exporter": "python",
      "pygments_lexer": "ipython3",
      "version": "3.6.6"
    },
    "colab": {
      "name": "02-Object Oriented Programming Homework.ipynb",
      "provenance": []
    }
  },
  "cells": [
    {
      "cell_type": "markdown",
      "metadata": {
        "id": "GNEI3rPgyyQN",
        "colab_type": "text"
      },
      "source": [
        "___\n",
        "\n",
        "<a href='https://www.udemy.com/user/joseportilla/'><img src='https://github.com/rcortadaf/Complete-Python-3-Bootcamp/blob/master/Pierian_Data_Logo.png?raw=1'/></a>\n",
        "___\n",
        "<center><em>Content Copyright by Pierian Data</em></center>"
      ]
    },
    {
      "cell_type": "markdown",
      "metadata": {
        "id": "CcF7pvsByyQQ",
        "colab_type": "text"
      },
      "source": [
        "# Object Oriented Programming\n",
        "## Homework Assignment\n",
        "\n",
        "#### Problem 1\n",
        "Fill in the Line class methods to accept coordinates as a pair of tuples and return the slope and distance of the line."
      ]
    },
    {
      "cell_type": "code",
      "metadata": {
        "id": "xLQcdm6IyyQT",
        "colab_type": "code",
        "colab": {}
      },
      "source": [
        "class Line:\n",
        "    \n",
        "    def __init__(self,coor1,coor2):\n",
        "      self.coor1=coor1\n",
        "      self.coor2=coor2\n",
        "    \n",
        "    def distance(self):\n",
        "        return (((self.coor1[0]-self.coor2[0])**2)+((self.coor1[1]-self.coor2[1])**2))**(1/2)\n",
        "    \n",
        "    def slope(self):\n",
        "        return (self.coor2[1]-self.coor1[1])/(self.coor2[0]-self.coor1[0])"
      ],
      "execution_count": 19,
      "outputs": []
    },
    {
      "cell_type": "code",
      "metadata": {
        "id": "l10GwbsSyyQm",
        "colab_type": "code",
        "colab": {}
      },
      "source": [
        "# EXAMPLE OUTPUT\n",
        "\n",
        "coordinate1 = (3,2)\n",
        "coordinate2 = (8,10)\n",
        "\n",
        "li = Line(coordinate1,coordinate2)"
      ],
      "execution_count": 20,
      "outputs": []
    },
    {
      "cell_type": "code",
      "metadata": {
        "id": "L6fD9D3SyyQw",
        "colab_type": "code",
        "colab": {
          "base_uri": "https://localhost:8080/",
          "height": 34
        },
        "outputId": "93e45d80-ec74-48b8-89cc-a6d53d69cb23"
      },
      "source": [
        "li.distance()"
      ],
      "execution_count": 21,
      "outputs": [
        {
          "output_type": "execute_result",
          "data": {
            "text/plain": [
              "9.433981132056603"
            ]
          },
          "metadata": {
            "tags": []
          },
          "execution_count": 21
        }
      ]
    },
    {
      "cell_type": "code",
      "metadata": {
        "id": "MAycuIzTyyQ9",
        "colab_type": "code",
        "colab": {
          "base_uri": "https://localhost:8080/",
          "height": 34
        },
        "outputId": "32243e7f-32d4-48f8-ab27-3366e7775728"
      },
      "source": [
        "li.slope()"
      ],
      "execution_count": 22,
      "outputs": [
        {
          "output_type": "execute_result",
          "data": {
            "text/plain": [
              "1.6"
            ]
          },
          "metadata": {
            "tags": []
          },
          "execution_count": 22
        }
      ]
    },
    {
      "cell_type": "markdown",
      "metadata": {
        "id": "1kv1kSATyyRI",
        "colab_type": "text"
      },
      "source": [
        "________\n",
        "#### Problem 2"
      ]
    },
    {
      "cell_type": "markdown",
      "metadata": {
        "id": "pYKNQmlDyyRK",
        "colab_type": "text"
      },
      "source": [
        "Fill in the class "
      ]
    },
    {
      "cell_type": "code",
      "metadata": {
        "id": "x-6gKghJyyRM",
        "colab_type": "code",
        "colab": {}
      },
      "source": [
        "class Cylinder:\n",
        "    \n",
        "    def __init__(self,height=1,radius=1):\n",
        "      self.height=height\n",
        "      self.radius=radius\n",
        "        \n",
        "    def volume(self):\n",
        "        return 3.1416*(self.radius**2)*self.height\n",
        "    \n",
        "    def surface_area(self):\n",
        "        return (2*3.1416*self.radius*self.height)+(2*3.1416*(self.radius**2))"
      ],
      "execution_count": 8,
      "outputs": []
    },
    {
      "cell_type": "code",
      "metadata": {
        "id": "ngb0gUrLyyRd",
        "colab_type": "code",
        "colab": {}
      },
      "source": [
        "# EXAMPLE OUTPUT\n",
        "c = Cylinder(2,3)"
      ],
      "execution_count": 9,
      "outputs": []
    },
    {
      "cell_type": "code",
      "metadata": {
        "id": "dn1x61CsyyRw",
        "colab_type": "code",
        "colab": {
          "base_uri": "https://localhost:8080/",
          "height": 34
        },
        "outputId": "211120b2-6ec6-4828-b9e6-fd5f4ec6ffe1"
      },
      "source": [
        "c.volume()"
      ],
      "execution_count": 10,
      "outputs": [
        {
          "output_type": "execute_result",
          "data": {
            "text/plain": [
              "56.5488"
            ]
          },
          "metadata": {
            "tags": []
          },
          "execution_count": 10
        }
      ]
    },
    {
      "cell_type": "code",
      "metadata": {
        "id": "Ldptf6XNyyR8",
        "colab_type": "code",
        "colab": {
          "base_uri": "https://localhost:8080/",
          "height": 34
        },
        "outputId": "a883b019-14cb-4a09-8a15-b44b07667dd2"
      },
      "source": [
        "c.surface_area()"
      ],
      "execution_count": 11,
      "outputs": [
        {
          "output_type": "execute_result",
          "data": {
            "text/plain": [
              "94.24799999999999"
            ]
          },
          "metadata": {
            "tags": []
          },
          "execution_count": 11
        }
      ]
    },
    {
      "cell_type": "code",
      "metadata": {
        "id": "umqtpmNh0YGh",
        "colab_type": "code",
        "colab": {}
      },
      "source": [
        ""
      ],
      "execution_count": null,
      "outputs": []
    }
  ]
}